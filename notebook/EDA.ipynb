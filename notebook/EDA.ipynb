{
 "cells": [
  {
   "cell_type": "markdown",
   "id": "e02e2ae9",
   "metadata": {},
   "source": [
    "# Exploratory Data Analysis Notebook"
   ]
  },
  {
   "cell_type": "markdown",
   "id": "3039011c",
   "metadata": {},
   "source": [
    "## Importing Libraries"
   ]
  },
  {
   "cell_type": "code",
   "execution_count": 1,
   "id": "9c4b3611",
   "metadata": {},
   "outputs": [],
   "source": [
    "import numpy as np\n",
    "import pandas as pd\n",
    "import matplotlib.pyplot as plt\n",
    "import seaborn\n",
    "from ucimlrepo import fetch_ucirepo"
   ]
  },
  {
   "cell_type": "markdown",
   "id": "1d69008a",
   "metadata": {},
   "source": [
    "## Importing Dataset"
   ]
  },
  {
   "cell_type": "code",
   "execution_count": 2,
   "id": "fdaffbb9",
   "metadata": {},
   "outputs": [],
   "source": [
    "data = fetch_ucirepo(id=863)"
   ]
  },
  {
   "cell_type": "code",
   "execution_count": 3,
   "id": "f88b49d6",
   "metadata": {},
   "outputs": [
    {
     "name": "stdout",
     "output_type": "stream",
     "text": [
      "          name     role         type demographic  \\\n",
      "0          Age  Feature      Integer         Age   \n",
      "1   SystolicBP  Feature      Integer        None   \n",
      "2  DiastolicBP  Feature      Integer        None   \n",
      "3           BS  Feature      Integer        None   \n",
      "4     BodyTemp  Feature      Integer        None   \n",
      "5    HeartRate  Feature      Integer        None   \n",
      "6    RiskLevel   Target  Categorical        None   \n",
      "\n",
      "                                         description   units missing_values  \n",
      "0    Any ages in years when a women during pregnant.    None             no  \n",
      "1  Upper value of Blood Pressure in mmHg, another...    None             no  \n",
      "2  Lower value of Blood Pressure in mmHg, another...    None             no  \n",
      "3  Blood glucose levels is in terms of a molar co...  mmol/L             no  \n",
      "4                                               None       F             no  \n",
      "5                        A normal resting heart rate     bpm             no  \n",
      "6  Predicted Risk Intensity Level during pregnanc...    None             no  \n"
     ]
    }
   ],
   "source": [
    "print(data.variables)"
   ]
  },
  {
   "cell_type": "code",
   "execution_count": 4,
   "id": "d1245dc7",
   "metadata": {},
   "outputs": [
    {
     "name": "stdout",
     "output_type": "stream",
     "text": [
      "   Age  SystolicBP  DiastolicBP    BS  BodyTemp  HeartRate\n",
      "0   25         130           80  15.0      98.0         86\n",
      "1   35         140           90  13.0      98.0         70\n",
      "2   29          90           70   8.0     100.0         80\n",
      "3   30         140           85   7.0      98.0         70\n",
      "4   35         120           60   6.1      98.0         76\n",
      "   RiskLevel\n",
      "0  high risk\n",
      "1  high risk\n",
      "2  high risk\n",
      "3  high risk\n",
      "4   low risk\n"
     ]
    }
   ],
   "source": [
    "X = data.data.features\n",
    "y = data.data.targets\n",
    "print(X.head())\n",
    "print(y.head())"
   ]
  },
  {
   "cell_type": "code",
   "execution_count": 5,
   "id": "374ac494",
   "metadata": {},
   "outputs": [
    {
     "data": {
      "text/html": [
       "<div>\n",
       "<style scoped>\n",
       "    .dataframe tbody tr th:only-of-type {\n",
       "        vertical-align: middle;\n",
       "    }\n",
       "\n",
       "    .dataframe tbody tr th {\n",
       "        vertical-align: top;\n",
       "    }\n",
       "\n",
       "    .dataframe thead th {\n",
       "        text-align: right;\n",
       "    }\n",
       "</style>\n",
       "<table border=\"1\" class=\"dataframe\">\n",
       "  <thead>\n",
       "    <tr style=\"text-align: right;\">\n",
       "      <th></th>\n",
       "      <th>Age</th>\n",
       "      <th>SystolicBP</th>\n",
       "      <th>DiastolicBP</th>\n",
       "      <th>BS</th>\n",
       "      <th>BodyTemp</th>\n",
       "      <th>HeartRate</th>\n",
       "      <th>RiskLevel</th>\n",
       "    </tr>\n",
       "  </thead>\n",
       "  <tbody>\n",
       "    <tr>\n",
       "      <th>567</th>\n",
       "      <td>23</td>\n",
       "      <td>120</td>\n",
       "      <td>80</td>\n",
       "      <td>7.5</td>\n",
       "      <td>98.0</td>\n",
       "      <td>70</td>\n",
       "      <td>low risk</td>\n",
       "    </tr>\n",
       "    <tr>\n",
       "      <th>159</th>\n",
       "      <td>25</td>\n",
       "      <td>100</td>\n",
       "      <td>90</td>\n",
       "      <td>7.5</td>\n",
       "      <td>98.0</td>\n",
       "      <td>76</td>\n",
       "      <td>low risk</td>\n",
       "    </tr>\n",
       "    <tr>\n",
       "      <th>485</th>\n",
       "      <td>60</td>\n",
       "      <td>90</td>\n",
       "      <td>65</td>\n",
       "      <td>7.9</td>\n",
       "      <td>98.0</td>\n",
       "      <td>77</td>\n",
       "      <td>low risk</td>\n",
       "    </tr>\n",
       "    <tr>\n",
       "      <th>261</th>\n",
       "      <td>19</td>\n",
       "      <td>120</td>\n",
       "      <td>75</td>\n",
       "      <td>6.9</td>\n",
       "      <td>98.0</td>\n",
       "      <td>66</td>\n",
       "      <td>low risk</td>\n",
       "    </tr>\n",
       "    <tr>\n",
       "      <th>476</th>\n",
       "      <td>15</td>\n",
       "      <td>76</td>\n",
       "      <td>49</td>\n",
       "      <td>7.9</td>\n",
       "      <td>98.0</td>\n",
       "      <td>77</td>\n",
       "      <td>low risk</td>\n",
       "    </tr>\n",
       "    <tr>\n",
       "      <th>931</th>\n",
       "      <td>22</td>\n",
       "      <td>100</td>\n",
       "      <td>65</td>\n",
       "      <td>7.5</td>\n",
       "      <td>98.0</td>\n",
       "      <td>70</td>\n",
       "      <td>low risk</td>\n",
       "    </tr>\n",
       "    <tr>\n",
       "      <th>679</th>\n",
       "      <td>35</td>\n",
       "      <td>85</td>\n",
       "      <td>60</td>\n",
       "      <td>11.0</td>\n",
       "      <td>102.0</td>\n",
       "      <td>86</td>\n",
       "      <td>high risk</td>\n",
       "    </tr>\n",
       "    <tr>\n",
       "      <th>725</th>\n",
       "      <td>29</td>\n",
       "      <td>130</td>\n",
       "      <td>70</td>\n",
       "      <td>6.7</td>\n",
       "      <td>98.0</td>\n",
       "      <td>78</td>\n",
       "      <td>mid risk</td>\n",
       "    </tr>\n",
       "    <tr>\n",
       "      <th>582</th>\n",
       "      <td>19</td>\n",
       "      <td>120</td>\n",
       "      <td>76</td>\n",
       "      <td>7.5</td>\n",
       "      <td>98.0</td>\n",
       "      <td>66</td>\n",
       "      <td>low risk</td>\n",
       "    </tr>\n",
       "    <tr>\n",
       "      <th>737</th>\n",
       "      <td>17</td>\n",
       "      <td>120</td>\n",
       "      <td>80</td>\n",
       "      <td>6.7</td>\n",
       "      <td>102.0</td>\n",
       "      <td>76</td>\n",
       "      <td>mid risk</td>\n",
       "    </tr>\n",
       "    <tr>\n",
       "      <th>87</th>\n",
       "      <td>16</td>\n",
       "      <td>100</td>\n",
       "      <td>70</td>\n",
       "      <td>6.9</td>\n",
       "      <td>98.0</td>\n",
       "      <td>80</td>\n",
       "      <td>mid risk</td>\n",
       "    </tr>\n",
       "    <tr>\n",
       "      <th>761</th>\n",
       "      <td>16</td>\n",
       "      <td>90</td>\n",
       "      <td>65</td>\n",
       "      <td>6.9</td>\n",
       "      <td>98.0</td>\n",
       "      <td>76</td>\n",
       "      <td>mid risk</td>\n",
       "    </tr>\n",
       "    <tr>\n",
       "      <th>455</th>\n",
       "      <td>35</td>\n",
       "      <td>120</td>\n",
       "      <td>60</td>\n",
       "      <td>6.1</td>\n",
       "      <td>98.0</td>\n",
       "      <td>76</td>\n",
       "      <td>low risk</td>\n",
       "    </tr>\n",
       "    <tr>\n",
       "      <th>309</th>\n",
       "      <td>60</td>\n",
       "      <td>90</td>\n",
       "      <td>65</td>\n",
       "      <td>6.9</td>\n",
       "      <td>98.0</td>\n",
       "      <td>77</td>\n",
       "      <td>low risk</td>\n",
       "    </tr>\n",
       "    <tr>\n",
       "      <th>990</th>\n",
       "      <td>19</td>\n",
       "      <td>90</td>\n",
       "      <td>65</td>\n",
       "      <td>11.0</td>\n",
       "      <td>101.0</td>\n",
       "      <td>70</td>\n",
       "      <td>high risk</td>\n",
       "    </tr>\n",
       "    <tr>\n",
       "      <th>399</th>\n",
       "      <td>25</td>\n",
       "      <td>120</td>\n",
       "      <td>80</td>\n",
       "      <td>7.8</td>\n",
       "      <td>98.0</td>\n",
       "      <td>66</td>\n",
       "      <td>low risk</td>\n",
       "    </tr>\n",
       "    <tr>\n",
       "      <th>307</th>\n",
       "      <td>35</td>\n",
       "      <td>100</td>\n",
       "      <td>70</td>\n",
       "      <td>6.9</td>\n",
       "      <td>98.0</td>\n",
       "      <td>60</td>\n",
       "      <td>low risk</td>\n",
       "    </tr>\n",
       "    <tr>\n",
       "      <th>491</th>\n",
       "      <td>23</td>\n",
       "      <td>120</td>\n",
       "      <td>90</td>\n",
       "      <td>7.9</td>\n",
       "      <td>98.0</td>\n",
       "      <td>70</td>\n",
       "      <td>mid risk</td>\n",
       "    </tr>\n",
       "    <tr>\n",
       "      <th>184</th>\n",
       "      <td>60</td>\n",
       "      <td>120</td>\n",
       "      <td>80</td>\n",
       "      <td>6.1</td>\n",
       "      <td>98.0</td>\n",
       "      <td>75</td>\n",
       "      <td>low risk</td>\n",
       "    </tr>\n",
       "    <tr>\n",
       "      <th>472</th>\n",
       "      <td>18</td>\n",
       "      <td>120</td>\n",
       "      <td>80</td>\n",
       "      <td>6.8</td>\n",
       "      <td>102.0</td>\n",
       "      <td>76</td>\n",
       "      <td>low risk</td>\n",
       "    </tr>\n",
       "  </tbody>\n",
       "</table>\n",
       "</div>"
      ],
      "text/plain": [
       "     Age  SystolicBP  DiastolicBP    BS  BodyTemp  HeartRate  RiskLevel\n",
       "567   23         120           80   7.5      98.0         70   low risk\n",
       "159   25         100           90   7.5      98.0         76   low risk\n",
       "485   60          90           65   7.9      98.0         77   low risk\n",
       "261   19         120           75   6.9      98.0         66   low risk\n",
       "476   15          76           49   7.9      98.0         77   low risk\n",
       "931   22         100           65   7.5      98.0         70   low risk\n",
       "679   35          85           60  11.0     102.0         86  high risk\n",
       "725   29         130           70   6.7      98.0         78   mid risk\n",
       "582   19         120           76   7.5      98.0         66   low risk\n",
       "737   17         120           80   6.7     102.0         76   mid risk\n",
       "87    16         100           70   6.9      98.0         80   mid risk\n",
       "761   16          90           65   6.9      98.0         76   mid risk\n",
       "455   35         120           60   6.1      98.0         76   low risk\n",
       "309   60          90           65   6.9      98.0         77   low risk\n",
       "990   19          90           65  11.0     101.0         70  high risk\n",
       "399   25         120           80   7.8      98.0         66   low risk\n",
       "307   35         100           70   6.9      98.0         60   low risk\n",
       "491   23         120           90   7.9      98.0         70   mid risk\n",
       "184   60         120           80   6.1      98.0         75   low risk\n",
       "472   18         120           80   6.8     102.0         76   low risk"
      ]
     },
     "execution_count": 5,
     "metadata": {},
     "output_type": "execute_result"
    }
   ],
   "source": [
    "data = pd.concat([X,y],axis=1)\n",
    "data.sample(20)"
   ]
  },
  {
   "cell_type": "markdown",
   "id": "182647e4",
   "metadata": {},
   "source": [
    "## Describing Dataset"
   ]
  },
  {
   "cell_type": "code",
   "execution_count": 6,
   "id": "021c441f",
   "metadata": {},
   "outputs": [
    {
     "name": "stdout",
     "output_type": "stream",
     "text": [
      "<class 'pandas.core.frame.DataFrame'>\n",
      "RangeIndex: 1014 entries, 0 to 1013\n",
      "Data columns (total 7 columns):\n",
      " #   Column       Non-Null Count  Dtype  \n",
      "---  ------       --------------  -----  \n",
      " 0   Age          1014 non-null   int64  \n",
      " 1   SystolicBP   1014 non-null   int64  \n",
      " 2   DiastolicBP  1014 non-null   int64  \n",
      " 3   BS           1014 non-null   float64\n",
      " 4   BodyTemp     1014 non-null   float64\n",
      " 5   HeartRate    1014 non-null   int64  \n",
      " 6   RiskLevel    1014 non-null   object \n",
      "dtypes: float64(2), int64(4), object(1)\n",
      "memory usage: 55.6+ KB\n"
     ]
    }
   ],
   "source": [
    "data.info()"
   ]
  },
  {
   "cell_type": "code",
   "execution_count": 7,
   "id": "14efc516",
   "metadata": {},
   "outputs": [
    {
     "data": {
      "text/plain": [
       "Age            0\n",
       "SystolicBP     0\n",
       "DiastolicBP    0\n",
       "BS             0\n",
       "BodyTemp       0\n",
       "HeartRate      0\n",
       "RiskLevel      0\n",
       "dtype: int64"
      ]
     },
     "execution_count": 7,
     "metadata": {},
     "output_type": "execute_result"
    }
   ],
   "source": [
    "data.isna().sum()"
   ]
  },
  {
   "cell_type": "code",
   "execution_count": 8,
   "id": "83510c17",
   "metadata": {},
   "outputs": [
    {
     "data": {
      "text/html": [
       "<div>\n",
       "<style scoped>\n",
       "    .dataframe tbody tr th:only-of-type {\n",
       "        vertical-align: middle;\n",
       "    }\n",
       "\n",
       "    .dataframe tbody tr th {\n",
       "        vertical-align: top;\n",
       "    }\n",
       "\n",
       "    .dataframe thead th {\n",
       "        text-align: right;\n",
       "    }\n",
       "</style>\n",
       "<table border=\"1\" class=\"dataframe\">\n",
       "  <thead>\n",
       "    <tr style=\"text-align: right;\">\n",
       "      <th></th>\n",
       "      <th>Age</th>\n",
       "      <th>SystolicBP</th>\n",
       "      <th>DiastolicBP</th>\n",
       "      <th>BS</th>\n",
       "      <th>BodyTemp</th>\n",
       "      <th>HeartRate</th>\n",
       "    </tr>\n",
       "  </thead>\n",
       "  <tbody>\n",
       "    <tr>\n",
       "      <th>count</th>\n",
       "      <td>1014.000000</td>\n",
       "      <td>1014.000000</td>\n",
       "      <td>1014.000000</td>\n",
       "      <td>1014.000000</td>\n",
       "      <td>1014.000000</td>\n",
       "      <td>1014.000000</td>\n",
       "    </tr>\n",
       "    <tr>\n",
       "      <th>mean</th>\n",
       "      <td>29.871795</td>\n",
       "      <td>113.198225</td>\n",
       "      <td>76.460552</td>\n",
       "      <td>8.725986</td>\n",
       "      <td>98.665089</td>\n",
       "      <td>74.301775</td>\n",
       "    </tr>\n",
       "    <tr>\n",
       "      <th>std</th>\n",
       "      <td>13.474386</td>\n",
       "      <td>18.403913</td>\n",
       "      <td>13.885796</td>\n",
       "      <td>3.293532</td>\n",
       "      <td>1.371384</td>\n",
       "      <td>8.088702</td>\n",
       "    </tr>\n",
       "    <tr>\n",
       "      <th>min</th>\n",
       "      <td>10.000000</td>\n",
       "      <td>70.000000</td>\n",
       "      <td>49.000000</td>\n",
       "      <td>6.000000</td>\n",
       "      <td>98.000000</td>\n",
       "      <td>7.000000</td>\n",
       "    </tr>\n",
       "    <tr>\n",
       "      <th>25%</th>\n",
       "      <td>19.000000</td>\n",
       "      <td>100.000000</td>\n",
       "      <td>65.000000</td>\n",
       "      <td>6.900000</td>\n",
       "      <td>98.000000</td>\n",
       "      <td>70.000000</td>\n",
       "    </tr>\n",
       "    <tr>\n",
       "      <th>50%</th>\n",
       "      <td>26.000000</td>\n",
       "      <td>120.000000</td>\n",
       "      <td>80.000000</td>\n",
       "      <td>7.500000</td>\n",
       "      <td>98.000000</td>\n",
       "      <td>76.000000</td>\n",
       "    </tr>\n",
       "    <tr>\n",
       "      <th>75%</th>\n",
       "      <td>39.000000</td>\n",
       "      <td>120.000000</td>\n",
       "      <td>90.000000</td>\n",
       "      <td>8.000000</td>\n",
       "      <td>98.000000</td>\n",
       "      <td>80.000000</td>\n",
       "    </tr>\n",
       "    <tr>\n",
       "      <th>max</th>\n",
       "      <td>70.000000</td>\n",
       "      <td>160.000000</td>\n",
       "      <td>100.000000</td>\n",
       "      <td>19.000000</td>\n",
       "      <td>103.000000</td>\n",
       "      <td>90.000000</td>\n",
       "    </tr>\n",
       "  </tbody>\n",
       "</table>\n",
       "</div>"
      ],
      "text/plain": [
       "               Age   SystolicBP  DiastolicBP           BS     BodyTemp  \\\n",
       "count  1014.000000  1014.000000  1014.000000  1014.000000  1014.000000   \n",
       "mean     29.871795   113.198225    76.460552     8.725986    98.665089   \n",
       "std      13.474386    18.403913    13.885796     3.293532     1.371384   \n",
       "min      10.000000    70.000000    49.000000     6.000000    98.000000   \n",
       "25%      19.000000   100.000000    65.000000     6.900000    98.000000   \n",
       "50%      26.000000   120.000000    80.000000     7.500000    98.000000   \n",
       "75%      39.000000   120.000000    90.000000     8.000000    98.000000   \n",
       "max      70.000000   160.000000   100.000000    19.000000   103.000000   \n",
       "\n",
       "         HeartRate  \n",
       "count  1014.000000  \n",
       "mean     74.301775  \n",
       "std       8.088702  \n",
       "min       7.000000  \n",
       "25%      70.000000  \n",
       "50%      76.000000  \n",
       "75%      80.000000  \n",
       "max      90.000000  "
      ]
     },
     "execution_count": 8,
     "metadata": {},
     "output_type": "execute_result"
    }
   ],
   "source": [
    "data.describe()"
   ]
  },
  {
   "cell_type": "code",
   "execution_count": 9,
   "id": "ef74dacd",
   "metadata": {},
   "outputs": [
    {
     "data": {
      "text/plain": [
       "array(['high risk', 'low risk', 'mid risk'], dtype=object)"
      ]
     },
     "execution_count": 9,
     "metadata": {},
     "output_type": "execute_result"
    }
   ],
   "source": [
    "data['RiskLevel'].unique()"
   ]
  },
  {
   "cell_type": "markdown",
   "id": "f385bbbe",
   "metadata": {},
   "source": [
    "## Analyzing & Visualizing Dataset"
   ]
  },
  {
   "cell_type": "markdown",
   "id": "c5fa7b2b",
   "metadata": {},
   "source": [
    "### Univariate Analysis"
   ]
  },
  {
   "cell_type": "code",
   "execution_count": null,
   "id": "1902b99d",
   "metadata": {},
   "outputs": [],
   "source": []
  },
  {
   "cell_type": "markdown",
   "id": "2c2b0c67",
   "metadata": {},
   "source": [
    "### Bivariate Analysis"
   ]
  },
  {
   "cell_type": "code",
   "execution_count": null,
   "id": "8d5e5af2",
   "metadata": {},
   "outputs": [],
   "source": []
  },
  {
   "cell_type": "markdown",
   "id": "87c0a643",
   "metadata": {},
   "source": [
    "### Multivariate Analysis"
   ]
  },
  {
   "cell_type": "code",
   "execution_count": null,
   "id": "9588ddd4",
   "metadata": {},
   "outputs": [],
   "source": []
  },
  {
   "cell_type": "markdown",
   "id": "db862711",
   "metadata": {},
   "source": []
  }
 ],
 "metadata": {
  "kernelspec": {
   "display_name": "venv",
   "language": "python",
   "name": "python3"
  },
  "language_info": {
   "codemirror_mode": {
    "name": "ipython",
    "version": 3
   },
   "file_extension": ".py",
   "mimetype": "text/x-python",
   "name": "python",
   "nbconvert_exporter": "python",
   "pygments_lexer": "ipython3",
   "version": "3.12.6"
  }
 },
 "nbformat": 4,
 "nbformat_minor": 5
}
